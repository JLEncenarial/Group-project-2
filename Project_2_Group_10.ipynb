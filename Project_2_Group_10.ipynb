{
  "cells": [
    {
      "cell_type": "markdown",
      "metadata": {
        "id": "view-in-github",
        "colab_type": "text"
      },
      "source": [
        "<a href=\"https://colab.research.google.com/github/JLEncenarial/Group-project-2/blob/main/Project_2_Group_10.ipynb\" target=\"_parent\"><img src=\"https://colab.research.google.com/assets/colab-badge.svg\" alt=\"Open In Colab\"/></a>"
      ]
    },
    {
      "cell_type": "code",
      "execution_count": 1,
      "metadata": {
        "id": "GXDuxWZeT0ia"
      },
      "outputs": [],
      "source": [
        "import os, warnings\n",
        "from tensorflow.keras.utils import image_dataset_from_directory\n",
        "from tensorflow.keras.applications.resnet50 import ResNet50\n",
        "from tensorflow.keras.preprocessing import image\n",
        "from tensorflow.keras.applications.resnet50 import preprocess_input, decode_predictions\n",
        "from keras.callbacks import EarlyStopping"
      ]
    },
    {
      "cell_type": "code",
      "execution_count": 2,
      "metadata": {
        "id": "xytijOIbT0ib"
      },
      "outputs": [],
      "source": [
        "import tensorflow as tf\n",
        "import datetime"
      ]
    },
    {
      "cell_type": "code",
      "execution_count": 3,
      "metadata": {
        "id": "CpZje2nwT0ic"
      },
      "outputs": [],
      "source": [
        "import numpy as np\n",
        "import pandas as pd\n",
        "import os\n",
        "import time\n",
        "from tensorflow.keras.models import Sequential\n",
        "from tensorflow.keras.layers import Conv2D, MaxPooling2D, Activation, Dropout, Flatten, Dense\n",
        "from tensorflow.keras.preprocessing.image  import ImageDataGenerator, img_to_array\n",
        "from PIL import Image\n",
        "import matplotlib.pyplot as plt\n",
        "from glob import glob  # for getting all the files"
      ]
    },
    {
      "cell_type": "code",
      "execution_count": 4,
      "metadata": {
        "colab": {
          "base_uri": "https://localhost:8080/"
        },
        "id": "-DjfiJSLT0ic",
        "outputId": "22bc6a03-6d7f-4fda-9657-cea8e5cffb61"
      },
      "outputs": [
        {
          "output_type": "stream",
          "name": "stdout",
          "text": [
            "Requirement already satisfied: wget in /usr/local/lib/python3.10/dist-packages (3.2)\n"
          ]
        }
      ],
      "source": [
        "%pip install wget"
      ]
    },
    {
      "cell_type": "markdown",
      "metadata": {
        "id": "HKKzwAt2T0id"
      },
      "source": [
        "### Download and Unzip Data"
      ]
    },
    {
      "cell_type": "code",
      "execution_count": 5,
      "metadata": {
        "id": "01wu2dQCT0id"
      },
      "outputs": [],
      "source": [
        "def bar_custom(current, total, width=80):\n",
        "    print(\"Downloading: %d%% [%d / %d] bytes\" % (current / total * 100, current, total))\n",
        "import wget\n",
        "import zipfile\n",
        "zip_name = \"train.zip\"\n",
        "\n",
        "url = \"https://jrssbcrsefilesnait.blob.core.windows.net/3950data1/vegetable_image_dataset.zip\"\n",
        "\n",
        "if not os.path.exists(zip_name):\n",
        "    wget.download(url, zip_name, bar=bar_custom)\n",
        "\n",
        "with zipfile.ZipFile(zip_name, 'r') as zip_ref:\n",
        "    zip_ref.extractall()"
      ]
    },
    {
      "cell_type": "code",
      "execution_count": 6,
      "metadata": {
        "colab": {
          "base_uri": "https://localhost:8080/"
        },
        "id": "tsNTqiZPT0id",
        "outputId": "74807247-5b53-48ee-b97d-39a7795fd972"
      },
      "outputs": [
        {
          "output_type": "stream",
          "name": "stdout",
          "text": [
            "Found 15000 files belonging to 15 classes.\n",
            "Found 3000 files belonging to 15 classes.\n"
          ]
        }
      ],
      "source": [
        "# Generate Datasets - you can change this if desired\n",
        "# ENSURE FILE PATHS MATCH CORRECTLY\n",
        "IMAGE_SIZE=(224,224)\n",
        "train_dir='Vegetable Images/train'\n",
        "val_dir='Vegetable Images/validation'\n",
        "batch_size = 16\n",
        "\n",
        "# Load training data\n",
        "train_ds = image_dataset_from_directory(\n",
        "    train_dir,\n",
        "    label_mode='categorical',\n",
        "    image_size = IMAGE_SIZE,\n",
        "    batch_size=batch_size\n",
        ")\n",
        "\n",
        "val_ds = image_dataset_from_directory(\n",
        "    val_dir,\n",
        "    label_mode='categorical',\n",
        "    image_size = IMAGE_SIZE,\n",
        "    batch_size = batch_size,\n",
        ")"
      ]
    },
    {
      "cell_type": "markdown",
      "metadata": {
        "id": "iUPr0dI6T0id"
      },
      "source": [
        "## Data Preparation"
      ]
    },
    {
      "cell_type": "code",
      "execution_count": 7,
      "metadata": {
        "colab": {
          "base_uri": "https://localhost:8080/"
        },
        "id": "K0iRYUS1T0id",
        "outputId": "1386bbf0-960e-4844-a9e8-bb00d8085162"
      },
      "outputs": [
        {
          "output_type": "stream",
          "name": "stdout",
          "text": [
            "Found 15000 files belonging to 15 classes.\n",
            "Found 3000 files belonging to 15 classes.\n"
          ]
        }
      ],
      "source": [
        "# Generate Datasets - you can change this if desired\n",
        "# ENSURE FILE PATHS MATCH CORRECTLY\n",
        "IMAGE_SIZE=(224,224)\n",
        "train_dir='Vegetable Images/train'\n",
        "val_dir='Vegetable Images/validation'\n",
        "batch_size = 16\n",
        "\n",
        "# Load training data\n",
        "train_ds = image_dataset_from_directory(\n",
        "    train_dir,\n",
        "    label_mode='categorical',\n",
        "    image_size = IMAGE_SIZE,\n",
        "    batch_size=batch_size\n",
        ")\n",
        "\n",
        "val_ds = image_dataset_from_directory(\n",
        "    val_dir,\n",
        "    label_mode='categorical',\n",
        "    image_size = IMAGE_SIZE,\n",
        "    batch_size = batch_size,\n",
        ")\n"
      ]
    },
    {
      "cell_type": "code",
      "execution_count": 8,
      "metadata": {
        "id": "Ui4nECSFT0ie"
      },
      "outputs": [],
      "source": [
        "train_ds = train_ds.repeat()\n",
        "val_ds = val_ds.repeat()"
      ]
    },
    {
      "cell_type": "markdown",
      "metadata": {
        "id": "0JwqzjsPT0ie"
      },
      "source": [
        "## Custom Model Training"
      ]
    },
    {
      "cell_type": "code",
      "execution_count": 9,
      "metadata": {
        "id": "gnZOlAMOT0ie"
      },
      "outputs": [],
      "source": [
        "\n",
        "\n",
        "model = Sequential()  # make a new sequential NN model\n",
        "\n",
        "# two convolution layers with pooling in between, this is the feature learning part of our model\n",
        "model.add(Conv2D(32, (3, 3), activation='relu', input_shape=(*IMAGE_SIZE, 3)))\n",
        "model.add(MaxPooling2D())\n",
        "\n",
        "model.add(Conv2D(64, (3, 3), activation='relu', input_shape=(*IMAGE_SIZE, 3)))\n",
        "model.add(MaxPooling2D())\n",
        "\n",
        "# this is where the classification will happen in our model\n",
        "model.add(Flatten())\n",
        "\n",
        "model.add(Dense(1024, activation='relu'))\n",
        "model.add(Dropout(0.5))  # helps prevent overfitting on the data\n",
        "model.add(Dense(512, activation='relu'))\n",
        "model.add(Dropout(0.5))\n",
        "model.add(Dense(15, activation='softmax'))\n",
        "model.compile(loss='categorical_crossentropy',\n",
        "              metrics=['accuracy'])"
      ]
    },
    {
      "cell_type": "code",
      "execution_count": 10,
      "metadata": {
        "colab": {
          "base_uri": "https://localhost:8080/"
        },
        "id": "HmEx08n-T0ie",
        "outputId": "4fd0add7-8509-4cdb-da81-0f2626b2560f"
      },
      "outputs": [
        {
          "output_type": "stream",
          "name": "stdout",
          "text": [
            "Epoch 1/50\n",
            "50/50 [==============================] - 12s 69ms/step - loss: 393.6624 - accuracy: 0.1112 - val_loss: 2.5419 - val_accuracy: 0.2225\n",
            "Epoch 2/50\n",
            "50/50 [==============================] - 3s 65ms/step - loss: 2.6732 - accuracy: 0.1838 - val_loss: 2.4466 - val_accuracy: 0.2425\n",
            "Epoch 3/50\n",
            "50/50 [==============================] - 4s 73ms/step - loss: 2.7545 - accuracy: 0.1963 - val_loss: 2.4773 - val_accuracy: 0.2625\n",
            "Epoch 4/50\n",
            "50/50 [==============================] - 4s 85ms/step - loss: 2.9283 - accuracy: 0.2188 - val_loss: 2.2238 - val_accuracy: 0.3300\n",
            "Epoch 5/50\n",
            "50/50 [==============================] - 3s 70ms/step - loss: 5.4127 - accuracy: 0.2500 - val_loss: 2.4887 - val_accuracy: 0.2925\n",
            "Epoch 6/50\n",
            "50/50 [==============================] - 4s 70ms/step - loss: 2.8586 - accuracy: 0.2825 - val_loss: 2.2686 - val_accuracy: 0.4025\n",
            "Epoch 7/50\n",
            "50/50 [==============================] - 4s 75ms/step - loss: 2.3934 - accuracy: 0.3075 - val_loss: 2.0532 - val_accuracy: 0.3825\n",
            "Epoch 8/50\n",
            "50/50 [==============================] - 3s 65ms/step - loss: 2.2065 - accuracy: 0.3388 - val_loss: 1.9933 - val_accuracy: 0.4225\n",
            "Epoch 9/50\n",
            "50/50 [==============================] - 3s 70ms/step - loss: 5.6559 - accuracy: 0.3487 - val_loss: 1.8433 - val_accuracy: 0.4275\n",
            "Epoch 10/50\n",
            "50/50 [==============================] - 4s 87ms/step - loss: 2.1927 - accuracy: 0.3550 - val_loss: 1.7857 - val_accuracy: 0.4600\n",
            "Epoch 11/50\n",
            "50/50 [==============================] - 3s 65ms/step - loss: 11.1104 - accuracy: 0.3413 - val_loss: 1.7712 - val_accuracy: 0.4700\n",
            "Epoch 12/50\n",
            "50/50 [==============================] - 3s 65ms/step - loss: 1.9331 - accuracy: 0.4137 - val_loss: 1.9870 - val_accuracy: 0.3425\n",
            "Epoch 13/50\n",
            "50/50 [==============================] - 3s 67ms/step - loss: 2.0947 - accuracy: 0.3512 - val_loss: 1.7619 - val_accuracy: 0.4700\n",
            "Epoch 14/50\n",
            "50/50 [==============================] - 4s 74ms/step - loss: 2.1662 - accuracy: 0.3800 - val_loss: 1.7621 - val_accuracy: 0.4600\n",
            "Epoch 15/50\n",
            "50/50 [==============================] - 3s 66ms/step - loss: 2.0117 - accuracy: 0.3750 - val_loss: 1.8556 - val_accuracy: 0.4775\n",
            "Epoch 16/50\n",
            "50/50 [==============================] - 3s 65ms/step - loss: 9.1539 - accuracy: 0.3738 - val_loss: 1.6809 - val_accuracy: 0.5050\n",
            "Epoch 17/50\n",
            "50/50 [==============================] - 4s 87ms/step - loss: 1.8542 - accuracy: 0.4275 - val_loss: 1.5714 - val_accuracy: 0.5100\n",
            "Epoch 18/50\n",
            "50/50 [==============================] - 3s 66ms/step - loss: 3.3537 - accuracy: 0.4212 - val_loss: 1.6072 - val_accuracy: 0.5150\n",
            "Epoch 19/50\n",
            "50/50 [==============================] - 4s 76ms/step - loss: 1.8542 - accuracy: 0.4205 - val_loss: 1.6419 - val_accuracy: 0.5175\n",
            "Epoch 20/50\n",
            "50/50 [==============================] - 4s 83ms/step - loss: 2.1851 - accuracy: 0.4450 - val_loss: 1.5477 - val_accuracy: 0.5225\n",
            "Epoch 21/50\n",
            "50/50 [==============================] - 4s 70ms/step - loss: 3.4771 - accuracy: 0.4775 - val_loss: 1.5394 - val_accuracy: 0.5475\n",
            "Epoch 22/50\n",
            "50/50 [==============================] - 3s 70ms/step - loss: 2.0749 - accuracy: 0.4538 - val_loss: 1.6045 - val_accuracy: 0.4975\n",
            "Epoch 23/50\n",
            "50/50 [==============================] - 3s 66ms/step - loss: 1.9855 - accuracy: 0.4938 - val_loss: 2.5085 - val_accuracy: 0.3900\n",
            "Epoch 24/50\n",
            "50/50 [==============================] - 4s 72ms/step - loss: 1.9143 - accuracy: 0.4888 - val_loss: 1.4780 - val_accuracy: 0.5525\n",
            "Epoch 25/50\n",
            "50/50 [==============================] - 3s 66ms/step - loss: 65.3366 - accuracy: 0.3363 - val_loss: 1.9983 - val_accuracy: 0.4075\n",
            "Epoch 26/50\n",
            "50/50 [==============================] - 3s 66ms/step - loss: 2.0588 - accuracy: 0.4863 - val_loss: 1.6099 - val_accuracy: 0.5525\n",
            "Epoch 27/50\n",
            "50/50 [==============================] - 4s 82ms/step - loss: 1.5145 - accuracy: 0.5337 - val_loss: 1.4960 - val_accuracy: 0.5725\n",
            "Epoch 28/50\n",
            "50/50 [==============================] - 4s 75ms/step - loss: 2.2676 - accuracy: 0.5500 - val_loss: 1.6694 - val_accuracy: 0.5125\n",
            "Epoch 29/50\n",
            "50/50 [==============================] - 3s 66ms/step - loss: 1.4650 - accuracy: 0.5587 - val_loss: 1.6217 - val_accuracy: 0.5750\n",
            "Epoch 30/50\n",
            "50/50 [==============================] - 3s 69ms/step - loss: 23.5663 - accuracy: 0.4975 - val_loss: 160.7906 - val_accuracy: 0.0450\n",
            "Epoch 31/50\n",
            "50/50 [==============================] - 4s 72ms/step - loss: 42.7736 - accuracy: 0.3175 - val_loss: 1.5671 - val_accuracy: 0.5525\n",
            "Epoch 32/50\n",
            "50/50 [==============================] - 3s 70ms/step - loss: 3.2601 - accuracy: 0.4812 - val_loss: 1.4487 - val_accuracy: 0.5825\n",
            "Epoch 33/50\n",
            "50/50 [==============================] - 4s 83ms/step - loss: 1.5531 - accuracy: 0.5625 - val_loss: 5.2441 - val_accuracy: 0.2625\n",
            "Epoch 34/50\n",
            "50/50 [==============================] - 4s 76ms/step - loss: 1.9995 - accuracy: 0.5437 - val_loss: 2.1068 - val_accuracy: 0.4250\n",
            "Epoch 35/50\n",
            "50/50 [==============================] - 3s 67ms/step - loss: 2.3042 - accuracy: 0.5450 - val_loss: 1.4912 - val_accuracy: 0.5775\n",
            "Epoch 36/50\n",
            "50/50 [==============================] - 3s 70ms/step - loss: 134.3352 - accuracy: 0.2637 - val_loss: 2.6248 - val_accuracy: 0.0925\n",
            "Epoch 37/50\n",
            "50/50 [==============================] - 4s 70ms/step - loss: 3.3330 - accuracy: 0.2163 - val_loss: 2.1592 - val_accuracy: 0.3600\n",
            "Epoch 38/50\n",
            "50/50 [==============================] - 4s 72ms/step - loss: 1.8589 - accuracy: 0.4949 - val_loss: 36.9554 - val_accuracy: 0.1600\n",
            "Epoch 39/50\n",
            "50/50 [==============================] - 3s 66ms/step - loss: 35.9782 - accuracy: 0.1037 - val_loss: 2.6503 - val_accuracy: 0.0925\n",
            "Epoch 40/50\n",
            "50/50 [==============================] - 3s 70ms/step - loss: 2.3458 - accuracy: 0.3475 - val_loss: 1.5878 - val_accuracy: 0.5425\n",
            "Epoch 41/50\n",
            "50/50 [==============================] - 4s 72ms/step - loss: 2.1570 - accuracy: 0.5288 - val_loss: 1.5256 - val_accuracy: 0.5425\n",
            "Epoch 42/50\n",
            "50/50 [==============================] - 4s 73ms/step - loss: 1.5627 - accuracy: 0.5763 - val_loss: 1.5504 - val_accuracy: 0.5325\n",
            "Epoch 43/50\n",
            "50/50 [==============================] - 3s 66ms/step - loss: 1.6621 - accuracy: 0.5525 - val_loss: 1.5648 - val_accuracy: 0.5275\n",
            "Epoch 44/50\n",
            "50/50 [==============================] - 3s 67ms/step - loss: 1.5883 - accuracy: 0.5688 - val_loss: 1.7891 - val_accuracy: 0.4900\n",
            "Epoch 45/50\n",
            "50/50 [==============================] - 4s 77ms/step - loss: 2.5934 - accuracy: 0.5462 - val_loss: 1.4375 - val_accuracy: 0.5950\n",
            "Epoch 46/50\n",
            "50/50 [==============================] - 3s 65ms/step - loss: 1.3627 - accuracy: 0.6150 - val_loss: 1.4212 - val_accuracy: 0.5900\n",
            "Epoch 47/50\n",
            "50/50 [==============================] - 3s 70ms/step - loss: 2.8468 - accuracy: 0.5925 - val_loss: 1.3418 - val_accuracy: 0.6125\n",
            "Epoch 48/50\n",
            "50/50 [==============================] - 4s 84ms/step - loss: 2.1746 - accuracy: 0.6313 - val_loss: 1.5353 - val_accuracy: 0.5900\n",
            "Epoch 49/50\n",
            "50/50 [==============================] - 3s 65ms/step - loss: 1.5277 - accuracy: 0.6288 - val_loss: 1.4995 - val_accuracy: 0.5450\n",
            "Epoch 50/50\n",
            "50/50 [==============================] - 3s 70ms/step - loss: 1.6462 - accuracy: 0.5562 - val_loss: 82.6897 - val_accuracy: 0.0900\n"
          ]
        }
      ],
      "source": [
        "hist = model.fit(train_ds,\n",
        "                 steps_per_epoch=50,\n",
        "                 epochs=50,\n",
        "                 validation_data=val_ds,\n",
        "                 validation_steps=25)"
      ]
    },
    {
      "cell_type": "markdown",
      "metadata": {
        "id": "jxVImTMpT0if"
      },
      "source": [
        "## Test Best Models and Illustrate Results"
      ]
    },
    {
      "cell_type": "code",
      "execution_count": 11,
      "metadata": {
        "colab": {
          "base_uri": "https://localhost:8080/",
          "height": 472
        },
        "id": "54-PR2pKT0if",
        "outputId": "76c9b7a4-b0fb-42c4-a46f-7bcacd3f763f"
      },
      "outputs": [
        {
          "output_type": "display_data",
          "data": {
            "text/plain": [
              "<Figure size 640x480 with 1 Axes>"
            ],
            "image/png": "[encoded data removed]"
          },
          "metadata": {}
        }
      ],
      "source": [
        "#plotting the results\n",
        "\n",
        "plt.figure(4)\n",
        "plt.plot(hist.history[\"accuracy\"],label = \"Training Accuracy\")\n",
        "plt.plot(hist.history[\"val_accuracy\"],label = \"Testing Accuracy\")\n",
        "plt.legend()\n",
        "plt.grid(axis='both',alpha=0.5)\n",
        "plt.title(\"Testing Accuracy and Training Accuracy vs Epochs\")\n",
        "plt.xlabel('Epochs')\n",
        "plt.ylabel('Accuracy')\n",
        "plt.show()"
      ]
    },
    {
      "cell_type": "code",
      "execution_count": 12,
      "metadata": {
        "colab": {
          "base_uri": "https://localhost:8080/"
        },
        "id": "UkOqj6m3T0if",
        "outputId": "1f7b7aa5-c568-46e8-fa6c-dad7179b54f3"
      },
      "outputs": [
        {
          "output_type": "stream",
          "name": "stdout",
          "text": [
            "Found 3000 files belonging to 15 classes.\n"
          ]
        }
      ],
      "source": [
        "test_dir='Vegetable Images/test'\n",
        "test_ds = image_dataset_from_directory(\n",
        "    test_dir,\n",
        "    label_mode='categorical',\n",
        "    image_size = IMAGE_SIZE,\n",
        "    batch_size = batch_size,\n",
        ")"
      ]
    },
    {
      "cell_type": "code",
      "source": [
        "#testing the accuracy\n",
        "\n",
        "test_loss, test_accuracy = model.evaluate(test_ds)\n",
        "test_accuracy"
      ],
      "metadata": {
        "colab": {
          "base_uri": "https://localhost:8080/"
        },
        "id": "fnIZR73rZb-s",
        "outputId": "887d7139-e862-41ea-c31d-76ca7008e04e"
      },
      "execution_count": 15,
      "outputs": [
        {
          "output_type": "stream",
          "name": "stdout",
          "text": [
            "188/188 [==============================] - 3s 14ms/step - loss: 92.9501 - accuracy: 0.0773\n"
          ]
        },
        {
          "output_type": "execute_result",
          "data": {
            "text/plain": [
              "0.07733333110809326"
            ]
          },
          "metadata": {},
          "execution_count": 15
        }
      ]
    }
  ],
  "metadata": {
    "kernelspec": {
      "display_name": "Python 3",
      "name": "python3"
    },
    "language_info": {
      "codemirror_mode": {
        "name": "ipython",
        "version": 3
      },
      "file_extension": ".py",
      "mimetype": "text/x-python",
      "name": "python",
      "nbconvert_exporter": "python",
      "pygments_lexer": "ipython3",
      "version": "3.10.4"
    },
    "orig_nbformat": 4,
    "colab": {
      "provenance": [],
      "gpuType": "T4",
      "include_colab_link": true
    },
    "accelerator": "GPU"
  },
  "nbformat": 4,
  "nbformat_minor": 0
}